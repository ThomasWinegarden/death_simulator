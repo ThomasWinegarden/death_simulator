{
 "cells": [
  {
   "cell_type": "markdown",
   "metadata": {},
   "source": [
    "# Death Simulator"
   ]
  },
  {
   "cell_type": "markdown",
   "metadata": {},
   "source": [
    "Reference: https://towardsdatascience.com/interactive-controls-for-jupyter-notebooks-f5c94829aee6"
   ]
  },
  {
   "cell_type": "code",
   "execution_count": 1,
   "metadata": {},
   "outputs": [],
   "source": [
    "#THESE NEED TO BE IN THE REQUIREMENTS.TXT\n",
    "\n",
    "import ipywidgets as widgets\n",
    "from ipywidgets import interact, interact_manual\n",
    "\n",
    "import pandas as pd\n",
    "import numpy as np\n",
    "import death_simulator\n",
    "import print_death_cert\n",
    "input_options_dict = death_simulator.fn_send_input_options()\n",
    "\n",
    "#this is for enabling user download of PDF\n",
    "from IPython.core.display import display, HTML\n",
    "\n",
    "#import dict of input options from the backend python module"
   ]
  },
  {
   "cell_type": "code",
   "execution_count": 4,
   "metadata": {},
   "outputs": [
    {
     "data": {
      "application/vnd.jupyter.widget-view+json": {
       "model_id": "2ba5c1515bca4d048700b4cd322246c1",
       "version_major": 2,
       "version_minor": 0
      },
      "text/plain": [
       "interactive(children=(Text(value='', description='Name'), Dropdown(description='Age', options=(0, 1, 2, 3, 4, …"
      ]
     },
     "metadata": {},
     "output_type": "display_data"
    }
   ],
   "source": [
    "@interact_manual\n",
    "def collect_inputs_manual_gen(Name=input_options_dict[\"name\"],\n",
    "                              Age=input_options_dict[\"age\"],\n",
    "                              Occupation=input_options_dict[\"occupation\"],\n",
    "                              Gender=input_options_dict[\"new_gender\"],\n",
    "                              Race=input_options_dict[\"race\"],\n",
    "                              Exercise=input_options_dict[\"exercise\"],\n",
    "                              BMI=sorted(input_options_dict[\"bmi\"]),\n",
    "                              Height=sorted(input_options_dict[\"height\"]),\n",
    "                              #be careful of how this is sorted\n",
    "                              Weight=input_options_dict[\"weight\"],\n",
    "                              McDonalds=input_options_dict[\"mcdonalds\"]):\n",
    "    input_options_dict = {'name':Name, 'age':Age, 'job':Occupation, 'gender':Gender, 'race':Race, 'exc':Exercise, 'bmi':BMI, 'height':Height, 'weight':Weight,'McD': McDonalds}\n",
    "    #return \"You will die of Atherosclerotic heart disease at the age of 88 years old on May 20th, 2080\"\n",
    "    return death_simulator.fn_send_output_string(input_options_dict)['description'][[0, display(HTML(\"\"\"<a href=\"../docs/death_certificate_{}.pdf\">Right-Click and Save Link As... to download your Pre-Death Certificate</a>\"\"\".format(death_simulator.fn_send_output_string(input_options_dict)['name'].replace(\" \", \"%20\"))))\n"
   ]
  },
  {
   "cell_type": "code",
   "execution_count": 24,
   "metadata": {},
   "outputs": [],
   "source": [
    "from numpy import inf\n",
    "curr_age = 26\n",
    "gender = 'Male'\n",
    "race = 'Asian or Pacific Islander'\n",
    "deathProb = pd.read_csv('../data/annualDeathProbs_age_gender_race.csv')\n",
    "deathProb.annual_death_prob\n",
    "deathProb[deathProb.annual_death_prob == inf] = 1.0\n",
    "data_subset = deathProb.loc[(deathProb['age'] >= curr_age) &\\\n",
    "                        (deathProb['gender'] == gender) &\\\n",
    "                        (deathProb['race'] == race)]\n",
    "death_Prob = data_subset['annual_death_prob'].tolist()"
   ]
  },
  {
   "cell_type": "code",
   "execution_count": 25,
   "metadata": {},
   "outputs": [
    {
     "data": {
      "text/plain": [
       "[0.0005810964843662697,\n",
       " 0.0006697069234939567,\n",
       " 0.000613696445805883,\n",
       " 0.0005680249718641836,\n",
       " 0.0006057497107681562,\n",
       " 0.0006139180810037002,\n",
       " 0.0006058854265099888,\n",
       " 0.0006494840210277392,\n",
       " 0.0005464973463891737,\n",
       " 0.0007844162635638644,\n",
       " 0.0007729713827535088,\n",
       " 0.0008678079656275222,\n",
       " 0.0008174648970955955,\n",
       " 0.0009458379932896627,\n",
       " 0.0008455933356675232,\n",
       " 0.0011016304130112566,\n",
       " 0.001034001987952209,\n",
       " 0.0010884424259308449,\n",
       " 0.0011063716342308717,\n",
       " 0.0013826177562852333,\n",
       " 0.00163034324788628,\n",
       " 0.0018510872557115329,\n",
       " 0.0017169032559353346,\n",
       " 0.0021806167400881056,\n",
       " 0.002366946561331077,\n",
       " 0.0025283078694625467,\n",
       " 0.002669752448650659,\n",
       " 0.0028180223492723488,\n",
       " 0.0032338938204862274,\n",
       " 0.0032638467468140593,\n",
       " 0.004209174573731897,\n",
       " 0.004608932110430014,\n",
       " 0.004551048777680382,\n",
       " 0.004896897356440568,\n",
       " 0.005248966040053353,\n",
       " 0.0063285453329473655,\n",
       " 0.0066772525548634025,\n",
       " 0.0067658578030130355,\n",
       " 0.007732790369059938,\n",
       " 0.008700824595574943,\n",
       " 0.008941544651838605,\n",
       " 0.00929060703881584,\n",
       " 0.01023355097940733,\n",
       " 0.01103031628440994,\n",
       " 0.011681262213215604,\n",
       " 0.012676651485985258,\n",
       " 0.01532945523725899,\n",
       " 0.014831079779652529,\n",
       " 0.016647447321522173,\n",
       " 0.02022990586531499,\n",
       " 0.022774628095168867,\n",
       " 0.02201588721132095,\n",
       " 0.025855968646235915,\n",
       " 0.031025453659724762,\n",
       " 0.03071830519695465,\n",
       " 0.036578647765250286,\n",
       " 0.04126272912423625,\n",
       " 0.04620896063849084,\n",
       " 0.052702843453806894,\n",
       " 0.07166861484511981,\n",
       " 0.03115054489343235,\n",
       " 0.0424113475177305,\n",
       " 0.05896542481908336,\n",
       " 0.3446601941747573]"
      ]
     },
     "execution_count": 25,
     "metadata": {},
     "output_type": "execute_result"
    }
   ],
   "source": [
    "death_Prob"
   ]
  }
 ],
 "metadata": {
  "kernelspec": {
   "display_name": "Python 3",
   "language": "python",
   "name": "python3"
  },
  "language_info": {
   "codemirror_mode": {
    "name": "ipython",
    "version": 3
   },
   "file_extension": ".py",
   "mimetype": "text/x-python",
   "name": "python",
   "nbconvert_exporter": "python",
   "pygments_lexer": "ipython3",
   "version": "3.7.4"
  }
 },
 "nbformat": 4,
 "nbformat_minor": 2
}
